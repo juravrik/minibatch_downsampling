{
 "cells": [
  {
   "cell_type": "code",
   "execution_count": 1,
   "metadata": {},
   "outputs": [],
   "source": [
    "import numpy as np\n",
    "import pandas as pd\n",
    "import numpy as np\n",
    "from sklearn.utils import shuffle\n",
    "import matplotlib\n",
    "import matplotlib.pyplot as plt\n",
    "import seaborn as sns\n",
    "%matplotlib inline\n",
    "import gc\n",
    "import subprocess\n",
    "import json\n",
    "\n",
    "import torch\n",
    "import torch.nn as nn\n",
    "\n",
    "import torch.optim as optim\n",
    "import torch.nn.functional as F"
   ]
  },
  {
   "cell_type": "code",
   "execution_count": 2,
   "metadata": {},
   "outputs": [],
   "source": [
    "torch.manual_seed(3510)\n",
    "random_state = 3510\n",
    "device = torch.device(\"cuda\" if torch.cuda.is_available() else \"cpu\")"
   ]
  },
  {
   "cell_type": "code",
   "execution_count": 3,
   "metadata": {},
   "outputs": [
    {
     "name": "stdout",
     "output_type": "stream",
     "text": [
      "cuda\n"
     ]
    }
   ],
   "source": [
    "print(device)"
   ]
  },
  {
   "cell_type": "code",
   "execution_count": 73,
   "metadata": {},
   "outputs": [
    {
     "data": {
      "text/html": [
       "<div>\n",
       "<style scoped>\n",
       "    .dataframe tbody tr th:only-of-type {\n",
       "        vertical-align: middle;\n",
       "    }\n",
       "\n",
       "    .dataframe tbody tr th {\n",
       "        vertical-align: top;\n",
       "    }\n",
       "\n",
       "    .dataframe thead th {\n",
       "        text-align: right;\n",
       "    }\n",
       "</style>\n",
       "<table border=\"1\" class=\"dataframe\">\n",
       "  <thead>\n",
       "    <tr style=\"text-align: right;\">\n",
       "      <th></th>\n",
       "      <th>qid</th>\n",
       "      <th>question_text</th>\n",
       "      <th>target</th>\n",
       "    </tr>\n",
       "  </thead>\n",
       "  <tbody>\n",
       "    <tr>\n",
       "      <th>0</th>\n",
       "      <td>00002165364db923c7e6</td>\n",
       "      <td>How did Quebec nationalists see their province...</td>\n",
       "      <td>0</td>\n",
       "    </tr>\n",
       "    <tr>\n",
       "      <th>1</th>\n",
       "      <td>000032939017120e6e44</td>\n",
       "      <td>Do you have an adopted dog, how would you enco...</td>\n",
       "      <td>0</td>\n",
       "    </tr>\n",
       "    <tr>\n",
       "      <th>2</th>\n",
       "      <td>0000412ca6e4628ce2cf</td>\n",
       "      <td>Why does velocity affect time? Does velocity a...</td>\n",
       "      <td>0</td>\n",
       "    </tr>\n",
       "    <tr>\n",
       "      <th>3</th>\n",
       "      <td>000042bf85aa498cd78e</td>\n",
       "      <td>How did Otto von Guericke used the Magdeburg h...</td>\n",
       "      <td>0</td>\n",
       "    </tr>\n",
       "    <tr>\n",
       "      <th>4</th>\n",
       "      <td>0000455dfa3e01eae3af</td>\n",
       "      <td>Can I convert montra helicon D to a mountain b...</td>\n",
       "      <td>0</td>\n",
       "    </tr>\n",
       "  </tbody>\n",
       "</table>\n",
       "</div>"
      ],
      "text/plain": [
       "                    qid                                      question_text  \\\n",
       "0  00002165364db923c7e6  How did Quebec nationalists see their province...   \n",
       "1  000032939017120e6e44  Do you have an adopted dog, how would you enco...   \n",
       "2  0000412ca6e4628ce2cf  Why does velocity affect time? Does velocity a...   \n",
       "3  000042bf85aa498cd78e  How did Otto von Guericke used the Magdeburg h...   \n",
       "4  0000455dfa3e01eae3af  Can I convert montra helicon D to a mountain b...   \n",
       "\n",
       "   target  \n",
       "0       0  \n",
       "1       0  \n",
       "2       0  \n",
       "3       0  \n",
       "4       0  "
      ]
     },
     "execution_count": 73,
     "metadata": {},
     "output_type": "execute_result"
    }
   ],
   "source": [
    "data = pd.read_csv(\"train.csv\")\n",
    "data.head()"
   ]
  },
  {
   "cell_type": "code",
   "execution_count": 74,
   "metadata": {},
   "outputs": [],
   "source": [
    "train = data[:200000].drop(\"qid\", axis=1)\n",
    "test = data[220000:230000].drop(\"qid\", axis=1)"
   ]
  },
  {
   "cell_type": "code",
   "execution_count": 6,
   "metadata": {},
   "outputs": [],
   "source": [
    "PAD = 0\n",
    "UNK = 1\n",
    "BOS = 2\n",
    "EOS = 3\n",
    "\n",
    "PAD_TOKEN = '<PAD>'\n",
    "UNK_TOKEN = '<UNK>'\n",
    "BOS_TOKEN = '<S>'\n",
    "EOS_TOKEN = '</S>'"
   ]
  },
  {
   "cell_type": "code",
   "execution_count": 7,
   "metadata": {},
   "outputs": [],
   "source": [
    "word2id = {\n",
    "    PAD_TOKEN: PAD,\n",
    "    BOS_TOKEN: BOS,\n",
    "    EOS_TOKEN: EOS,\n",
    "    UNK_TOKEN: UNK,\n",
    "    }\n",
    "\n",
    "id2word = {v: k for k, v in word2id.items()}   \n",
    "\n",
    "for s in train[\"question_text\"]:\n",
    "    for w in s.split():\n",
    "        _id = len(word2id)\n",
    "        word2id.setdefault(w, _id)\n",
    "        id2word[_id] = w "
   ]
  },
  {
   "cell_type": "code",
   "execution_count": 8,
   "metadata": {},
   "outputs": [],
   "source": [
    "def sentence_to_ids(char2id, sentence):\n",
    "    \"\"\"\n",
    "    単語のリストをインデックスのリストに変換する\n",
    "    :param vocab: Vocabのインスタンス\n",
    "    :param sentence: list of str\n",
    "    :return indices: list of int\n",
    "    \"\"\"\n",
    "    ids = [char2id.get(c, UNK) for c in sentence.split()]\n",
    "    ids = [BOS] + ids + [EOS]  # </S>トークンを末尾に加える\n",
    "#     ids += [EOS]  # EOSを末尾に加える\n",
    "    return ids"
   ]
  },
  {
   "cell_type": "code",
   "execution_count": 9,
   "metadata": {},
   "outputs": [],
   "source": [
    "train[\"question_text\"]= [sentence_to_ids(word2id, sentence) for sentence in train[\"question_text\"]]\n",
    "test[\"question_text\"] = [sentence_to_ids(word2id, sentence) for sentence in test[\"question_text\"]]"
   ]
  },
  {
   "cell_type": "code",
   "execution_count": 10,
   "metadata": {},
   "outputs": [],
   "source": [
    "def preprocess_seqs(seqs):\n",
    "            # パディング\n",
    "    max_length = max([len(s) for s in seqs])\n",
    "    data = [s + [PAD] * (max_length - len(s)) for s in seqs]\n",
    "     # テンソルに変換\n",
    "    data_tensor = torch.tensor(data, dtype=torch.long, device=device)\n",
    "    return data_tensor   "
   ]
  },
  {
   "cell_type": "code",
   "execution_count": 11,
   "metadata": {},
   "outputs": [],
   "source": [
    "class DataLoader(object):\n",
    "    def __init__(self, data, batch_size, shuffle=True, is_train=True):\n",
    "        \"\"\"\n",
    "        :param src_insts: list, 入力言語の文章（単語IDのリスト）のリスト\n",
    "        :param tgt_insts: list, 出力言語の文章（単語IDのリスト）のリスト\n",
    "        :param batch_size: int, バッチサイズ\n",
    "        :param shuffle: bool, サンプルの順番をシャッフルするか否か\n",
    "        \"\"\"\n",
    "        self.data = data\n",
    "        self.positive = data[data.target==1]\n",
    "        self.negative = data[data.target==0]\n",
    "        self.batch_size = batch_size\n",
    "        self.shuffle = shuffle\n",
    "        self.start_index = 0\n",
    "        self.is_train=is_train\n",
    "        \n",
    "        self.reset()\n",
    "    \n",
    "    def reset(self):\n",
    "        if self.shuffle:\n",
    "            self.negative = shuffle(self.negative, random_state=random_state)\n",
    "        self.start_index = 0\n",
    "    \n",
    "    def __iter__(self):\n",
    "        return self\n",
    "    \n",
    "    def __next__(self):       \n",
    "        # ポインタが最後まで到達したら初期化する\n",
    "        if self.start_index >= len(self.negative):\n",
    "            self.reset()\n",
    "            raise StopIteration()\n",
    "        \n",
    "        if self.is_train:\n",
    "            minibatch = pd.concat([self.data[self.data.target==1].sample(self.batch_size),\n",
    "                               self.data[self.data.target==0][self.start_index:self.start_index+self.batch_size]], axis=0)\n",
    "        else:\n",
    "            minibatch = self.data[self.start_index:self.start_index+self.batch_size]\n",
    "        \n",
    "        minibatch_X = preprocess_seqs(minibatch[\"question_text\"].values)\n",
    "        minibatch_y = torch.tensor(minibatch[\"target\"].values, dtype=torch.long, device=device)\n",
    "        # バッチを取得して前処理\n",
    "        self.start_index += self.batch_size\n",
    "\n",
    "        return minibatch_X, minibatch_y"
   ]
  },
  {
   "cell_type": "code",
   "execution_count": 12,
   "metadata": {},
   "outputs": [],
   "source": [
    "class TextCNN(nn.Module):\n",
    "\n",
    "    def __init__(self, vocab_size, embedding_size, class_num, kernel_num, kernel_sizes, dropout, static):\n",
    "        \"\"\"\n",
    "        :param vocab_size: int, 入力言語の語彙数\n",
    "        :param embedding_size: int, 埋め込みベクトルの次元数\n",
    "        :param class_num: int, 出力のクラス数\n",
    "        :param kernel_num: int,　畳み込み層の出力チャネル数\n",
    "        :param kernel_sizes: list of int, カーネルのウィンドウサイズ\n",
    "        :param dropout: float, ドロップアウト率\n",
    "        :param static: bool, 埋め込みを固定するか否かのフラグ\n",
    "        \"\"\"\n",
    "        super(TextCNN, self).__init__()\n",
    "        \n",
    "        self.static = static\n",
    "\n",
    "        self.embedding = nn.Embedding(vocab_size, embedding_size)\n",
    "        # nn.ModuleList: 任意の数のModuleをlistのような形で保持することが出来るクラス\n",
    "        self.convs = nn.ModuleList(\n",
    "            [nn.Conv1d(1, kernel_num, (kernel_size, embedding_size)) for kernel_size in kernel_sizes]\n",
    "            )\n",
    "        self.dropout = nn.Dropout(dropout)\n",
    "        self.out = nn.Linear(len(kernel_sizes)*kernel_num, class_num)\n",
    "\n",
    "    def forward(self, x):\n",
    "        # x: (batch_size, max_length)\n",
    "        x = self.embedding(x)  # (batch_size, max_length, embedding_size)\n",
    "        \n",
    "        if self.static:\n",
    "            x = torch.tensor(x)  # 埋め込みを固定\n",
    "\n",
    "        x = x.unsqueeze(1)  # (batch_size, 1, max_length, embedding_size)\n",
    "\n",
    "        x = [F.relu(conv(x)).squeeze(3) for conv in self.convs]  # [(batch_size, kernel_num, max_length-kernel_size+1), ...]*len(kernel_sizes)\n",
    "\n",
    "        x = [F.max_pool1d(i, i.size(2)).squeeze(2) for i in x]  # [(batch_size, kernel_num), ...]*len(kernel_sizes)\n",
    "\n",
    "        x = torch.cat(x, 1)  # (batch_size, len(kernel_sizes)*kernel_num)\n",
    "\n",
    "        x = self.dropout(x)\n",
    "        logit = self.out(x)  # (batch_size, class_num)\n",
    "        return logit"
   ]
  },
  {
   "cell_type": "code",
   "execution_count": 56,
   "metadata": {},
   "outputs": [],
   "source": [
    "model_args = {\n",
    "    'vocab_size': len(id2word),\n",
    "    'embedding_size': 128,\n",
    "    'class_num': 2,\n",
    "    'kernel_num': 64,\n",
    "    'kernel_sizes': [3, 4, 5],\n",
    "    'dropout': 0.5,\n",
    "    'static': False,\n",
    "}\n",
    "\n",
    "lr = 0.001\n",
    "num_epochs = 16\n",
    "batch_size = 256\n",
    "ckpt_path = 'cnn.pth'"
   ]
  },
  {
   "cell_type": "code",
   "execution_count": 57,
   "metadata": {},
   "outputs": [],
   "source": [
    "# model\n",
    "model = TextCNN(**model_args)\n",
    "model = model.to(device)\n",
    "\n",
    "optimizer = optim.Adam(model.parameters(), lr=lr)\n",
    "criterion = nn.CrossEntropyLoss()\n",
    "\n",
    "train_dataloader = DataLoader(train, batch_size)\n",
    "valid_dataloader = DataLoader(test, batch_size, is_train=False)"
   ]
  },
  {
   "cell_type": "code",
   "execution_count": 45,
   "metadata": {},
   "outputs": [],
   "source": [
    "DEFAULT_ATTRIBUTES = (\n",
    "    'index',\n",
    "    'uuid',\n",
    "    'name',\n",
    "    'timestamp',\n",
    "    'memory.total',\n",
    "    'memory.free',\n",
    "    'memory.used',\n",
    "    'utilization.gpu',\n",
    "    'utilization.memory'\n",
    ")\n",
    "\n",
    "def get_gpu_info(nvidia_smi_path='nvidia-smi', keys=DEFAULT_ATTRIBUTES, no_units=True):\n",
    "    nu_opt = '' if not no_units else ',nounits'\n",
    "    cmd = '%s --query-gpu=%s --format=csv,noheader%s' % (nvidia_smi_path, ','.join(keys), nu_opt)\n",
    "    output = subprocess.check_output(cmd, shell=True)\n",
    "    lines = output.decode().split('\\n')\n",
    "    lines = [ line.strip() for line in lines if line.strip() != '' ]\n",
    "\n",
    "    return [ { k: v for k, v in zip(keys, line.split(', ')) } for line in lines ]"
   ]
  },
  {
   "cell_type": "code",
   "execution_count": 58,
   "metadata": {},
   "outputs": [],
   "source": [
    "def compute_loss(batch_X, batch_Y, model, criterion, optimizer=None, is_train=True):\n",
    "    # バッチの損失を計算\n",
    "    model.train(is_train)\n",
    "    pred_Y = model(batch_X)\n",
    "    loss = criterion(pred_Y, batch_Y.view(-1))\n",
    "    \n",
    "    if is_train:  # 訓練時はパラメータを更新\n",
    "        optimizer.zero_grad()\n",
    "        loss.backward()\n",
    "        optimizer.step()\n",
    "\n",
    "    return loss.item()"
   ]
  },
  {
   "cell_type": "code",
   "execution_count": 59,
   "metadata": {
    "scrolled": true
   },
   "outputs": [
    {
     "name": "stdout",
     "output_type": "stream",
     "text": [
      "train: 0.001411647888123989 , valid: 0.0010764951780438423\n",
      "train: 0.0006607065016776323 , valid: 0.0007527477025985718\n",
      "train: 0.0003531021471321583 , valid: 0.0008327482655644417\n",
      "train: 0.00020912730576470496 , valid: 0.0009710137382149697\n",
      "train: 0.0001332700364664197 , valid: 0.001135358192026615\n",
      "train: 8.951031319331377e-05 , valid: 0.0013156113624572753\n",
      "train: 6.18623003223911e-05 , valid: 0.0015288485988974572\n",
      "train: 4.6249739360064265e-05 , valid: 0.0016838643550872803\n",
      "train: 3.802671341923997e-05 , valid: 0.0018389321237802505\n",
      "train: 2.990433629369363e-05 , valid: 0.0020429480656981467\n",
      "train: 2.4480146672576665e-05 , valid: 0.002196960198879242\n",
      "train: 2.4531675543403253e-05 , valid: 0.002446245750784874\n"
     ]
    },
    {
     "ename": "KeyboardInterrupt",
     "evalue": "",
     "output_type": "error",
     "traceback": [
      "\u001b[0;31m---------------------------------------------------------------------------\u001b[0m",
      "\u001b[0;31mKeyboardInterrupt\u001b[0m                         Traceback (most recent call last)",
      "\u001b[0;32m<ipython-input-59-1fdf6c09e723>\u001b[0m in \u001b[0;36m<module>\u001b[0;34m\u001b[0m\n\u001b[1;32m     10\u001b[0m         \u001b[0mbatch_X\u001b[0m\u001b[0;34m,\u001b[0m \u001b[0mbatch_Y\u001b[0m \u001b[0;34m=\u001b[0m \u001b[0mdata\u001b[0m\u001b[0;34m\u001b[0m\u001b[0;34m\u001b[0m\u001b[0m\n\u001b[1;32m     11\u001b[0m         loss = compute_loss(\n\u001b[0;32m---> 12\u001b[0;31m             \u001b[0mbatch_X\u001b[0m\u001b[0;34m,\u001b[0m \u001b[0mbatch_Y\u001b[0m\u001b[0;34m,\u001b[0m \u001b[0mmodel\u001b[0m\u001b[0;34m,\u001b[0m \u001b[0mcriterion\u001b[0m\u001b[0;34m,\u001b[0m \u001b[0moptimizer\u001b[0m\u001b[0;34m,\u001b[0m \u001b[0mis_train\u001b[0m\u001b[0;34m=\u001b[0m\u001b[0;32mTrue\u001b[0m\u001b[0;34m\u001b[0m\u001b[0;34m\u001b[0m\u001b[0m\n\u001b[0m\u001b[1;32m     13\u001b[0m             )     \n\u001b[1;32m     14\u001b[0m \u001b[0;34m\u001b[0m\u001b[0m\n",
      "\u001b[0;32m<ipython-input-58-7e1428a2576b>\u001b[0m in \u001b[0;36mcompute_loss\u001b[0;34m(batch_X, batch_Y, model, criterion, optimizer, is_train)\u001b[0m\n\u001b[1;32m     10\u001b[0m         \u001b[0moptimizer\u001b[0m\u001b[0;34m.\u001b[0m\u001b[0mstep\u001b[0m\u001b[0;34m(\u001b[0m\u001b[0;34m)\u001b[0m\u001b[0;34m\u001b[0m\u001b[0;34m\u001b[0m\u001b[0m\n\u001b[1;32m     11\u001b[0m \u001b[0;34m\u001b[0m\u001b[0m\n\u001b[0;32m---> 12\u001b[0;31m     \u001b[0;32mreturn\u001b[0m \u001b[0mloss\u001b[0m\u001b[0;34m.\u001b[0m\u001b[0mitem\u001b[0m\u001b[0;34m(\u001b[0m\u001b[0;34m)\u001b[0m\u001b[0;34m\u001b[0m\u001b[0;34m\u001b[0m\u001b[0m\n\u001b[0m",
      "\u001b[0;31mKeyboardInterrupt\u001b[0m: "
     ]
    }
   ],
   "source": [
    "log_train_loss=[]\n",
    "log_valid_loss=[]\n",
    "# 訓練\n",
    "for epoch in range(1, num_epochs+1):\n",
    "    #print(\"first -> memory.used\", get_gpu_info()[0]['memory.used'])\n",
    "    train_loss = 0.\n",
    "    valid_loss=0.\n",
    "    # train\n",
    "    for i, data in enumerate(train_dataloader):\n",
    "        batch_X, batch_Y = data\n",
    "        loss = compute_loss(\n",
    "            batch_X, batch_Y, model, criterion, optimizer, is_train=True\n",
    "            )     \n",
    "        \n",
    "        train_loss += loss\n",
    "        #print(\"batch\",i,\"-> memory.used\", get_gpu_info()[0]['memory.used'])\n",
    "        \n",
    "    \n",
    "    train_loss = train_loss/len(train)\n",
    "    #print(\"train_end -> memory.used\", get_gpu_info()[0]['memory.used'])\n",
    "    \n",
    "    for i, data in enumerate(valid_dataloader):\n",
    "        batch_X, batch_Y = data\n",
    "        loss = compute_loss(\n",
    "            batch_X, batch_Y, model, criterion, optimizer, is_train=False\n",
    "            )             \n",
    "        valid_loss += loss\n",
    "        #print(\"batch\",i,\"-> memory.used\", get_gpu_info()[0]['memory.used'])\n",
    "    \n",
    "    valid_loss = valid_loss/len(test)\n",
    "        \n",
    "    #print(\"valid_end -> memory.used\", get_gpu_info()[0]['memory.used'])\n",
    "    \n",
    "    print(\"train:\",train_loss, \", valid:\", valid_loss)\n",
    "    log_train_loss.append(train_loss)\n",
    "    log_valid_loss.append(valid_loss)    "
   ]
  },
  {
   "cell_type": "code",
   "execution_count": 60,
   "metadata": {},
   "outputs": [
    {
     "data": {
      "image/png": "[encoded data removed]",
      "text/plain": [
       "<Figure size 432x288 with 1 Axes>"
      ]
     },
     "metadata": {
      "needs_background": "light"
     },
     "output_type": "display_data"
    }
   ],
   "source": [
    "plt.plot(log_train_loss, label=\"train\")\n",
    "plt.plot(log_valid_loss, label=\"test\")\n",
    "plt.legend()\n",
    "plt.savefig('cnn.png')"
   ]
  },
  {
   "cell_type": "code",
   "execution_count": 68,
   "metadata": {},
   "outputs": [],
   "source": [
    "class DataLoader_Normal(object):\n",
    "    def __init__(self, data, batch_size, shuffle=True, is_train=True):\n",
    "        \"\"\"\n",
    "        :param src_insts: list, 入力言語の文章（単語IDのリスト）のリスト\n",
    "        :param tgt_insts: list, 出力言語の文章（単語IDのリスト）のリスト\n",
    "        :param batch_size: int, バッチサイズ\n",
    "        :param shuffle: bool, サンプルの順番をシャッフルするか否か\n",
    "        \"\"\"\n",
    "        self.data = data\n",
    "        self.batch_size = batch_size\n",
    "        self.shuffle = shuffle\n",
    "        self.start_index = 0\n",
    "        self.is_train=is_train\n",
    "        \n",
    "        self.reset()\n",
    "    \n",
    "    def reset(self):\n",
    "        if self.shuffle:\n",
    "            self.data = shuffle(self.data, random_state=random_state)\n",
    "        self.start_index = 0\n",
    "    \n",
    "    def __iter__(self):\n",
    "        return self\n",
    "    \n",
    "    def __next__(self):       \n",
    "        # ポインタが最後まで到達したら初期化する\n",
    "        if self.start_index >= len(self.data):\n",
    "            self.reset()\n",
    "            raise StopIteration()\n",
    "        \n",
    "        minibatch = self.data[self.start_index:self.start_index+self.batch_size]\n",
    "        minibatch_X = preprocess_seqs(minibatch[\"question_text\"].values)\n",
    "        minibatch_y = torch.tensor(minibatch[\"target\"].values, dtype=torch.long, device=device)\n",
    "        # バッチを取得して前処理\n",
    "        self.start_index += self.batch_size\n",
    "\n",
    "        return minibatch_X, minibatch_y"
   ]
  },
  {
   "cell_type": "code",
   "execution_count": 69,
   "metadata": {},
   "outputs": [],
   "source": [
    "# model\n",
    "model_n = TextCNN(**model_args)\n",
    "model_n = model_n.to(device)\n",
    "\n",
    "optimizer_n = optim.Adam(model_n.parameters(), lr=lr)\n",
    "criterion_n = nn.CrossEntropyLoss()\n",
    "\n",
    "train_dataloader = DataLoader_Normal(train, batch_size)\n",
    "valid_dataloader = DataLoader_Normal(test, batch_size, is_train=False)"
   ]
  },
  {
   "cell_type": "code",
   "execution_count": 70,
   "metadata": {},
   "outputs": [
    {
     "name": "stdout",
     "output_type": "stream",
     "text": [
      "train: 0.0007505746500194073 , valid: 0.0006767131686210632\n",
      "train: 0.0006064429639652372 , valid: 0.0006084707066416741\n",
      "train: 0.0005072246394306421 , valid: 0.0006103263720870018\n",
      "train: 0.00042416536886245013 , valid: 0.0006045921608805656\n",
      "train: 0.0003403429441899061 , valid: 0.0006565892942249775\n",
      "train: 0.0002716307493671775 , valid: 0.0007057852981612086\n",
      "train: 0.00020886497647501528 , valid: 0.0008297539591789246\n",
      "train: 0.0001609054811950773 , valid: 0.0009243253074586391\n",
      "train: 0.00012590172235388308 , valid: 0.0011109501525759697\n",
      "train: 0.00010038565666647628 , valid: 0.0011708020456135274\n",
      "train: 7.639833238674327e-05 , valid: 0.0012836005493998528\n",
      "train: 6.45869873126503e-05 , valid: 0.0015469376429915428\n",
      "train: 5.216552328784019e-05 , valid: 0.0015428642764687538\n"
     ]
    },
    {
     "ename": "KeyboardInterrupt",
     "evalue": "",
     "output_type": "error",
     "traceback": [
      "\u001b[0;31m---------------------------------------------------------------------------\u001b[0m",
      "\u001b[0;31mKeyboardInterrupt\u001b[0m                         Traceback (most recent call last)",
      "\u001b[0;32m<ipython-input-70-191929d8903a>\u001b[0m in \u001b[0;36m<module>\u001b[0;34m\u001b[0m\n\u001b[1;32m     10\u001b[0m         \u001b[0mbatch_X\u001b[0m\u001b[0;34m,\u001b[0m \u001b[0mbatch_Y\u001b[0m \u001b[0;34m=\u001b[0m \u001b[0mdata\u001b[0m\u001b[0;34m\u001b[0m\u001b[0;34m\u001b[0m\u001b[0m\n\u001b[1;32m     11\u001b[0m         loss = compute_loss(\n\u001b[0;32m---> 12\u001b[0;31m             \u001b[0mbatch_X\u001b[0m\u001b[0;34m,\u001b[0m \u001b[0mbatch_Y\u001b[0m\u001b[0;34m,\u001b[0m \u001b[0mmodel_n\u001b[0m\u001b[0;34m,\u001b[0m \u001b[0mcriterion_n\u001b[0m\u001b[0;34m,\u001b[0m \u001b[0moptimizer_n\u001b[0m\u001b[0;34m,\u001b[0m \u001b[0mis_train\u001b[0m\u001b[0;34m=\u001b[0m\u001b[0;32mTrue\u001b[0m\u001b[0;34m\u001b[0m\u001b[0;34m\u001b[0m\u001b[0m\n\u001b[0m\u001b[1;32m     13\u001b[0m             )     \n\u001b[1;32m     14\u001b[0m \u001b[0;34m\u001b[0m\u001b[0m\n",
      "\u001b[0;32m<ipython-input-58-7e1428a2576b>\u001b[0m in \u001b[0;36mcompute_loss\u001b[0;34m(batch_X, batch_Y, model, criterion, optimizer, is_train)\u001b[0m\n\u001b[1;32m     10\u001b[0m         \u001b[0moptimizer\u001b[0m\u001b[0;34m.\u001b[0m\u001b[0mstep\u001b[0m\u001b[0;34m(\u001b[0m\u001b[0;34m)\u001b[0m\u001b[0;34m\u001b[0m\u001b[0;34m\u001b[0m\u001b[0m\n\u001b[1;32m     11\u001b[0m \u001b[0;34m\u001b[0m\u001b[0m\n\u001b[0;32m---> 12\u001b[0;31m     \u001b[0;32mreturn\u001b[0m \u001b[0mloss\u001b[0m\u001b[0;34m.\u001b[0m\u001b[0mitem\u001b[0m\u001b[0;34m(\u001b[0m\u001b[0;34m)\u001b[0m\u001b[0;34m\u001b[0m\u001b[0;34m\u001b[0m\u001b[0m\n\u001b[0m",
      "\u001b[0;31mKeyboardInterrupt\u001b[0m: "
     ]
    }
   ],
   "source": [
    "log_train_loss=[]\n",
    "log_valid_loss=[]\n",
    "# 訓練\n",
    "for epoch in range(1, num_epochs+1):\n",
    "    #print(\"first -> memory.used\", get_gpu_info()[0]['memory.used'])\n",
    "    train_loss = 0.\n",
    "    valid_loss=0.\n",
    "    # train\n",
    "    for i, data in enumerate(train_dataloader):\n",
    "        batch_X, batch_Y = data\n",
    "        loss = compute_loss(\n",
    "            batch_X, batch_Y, model_n, criterion_n, optimizer_n, is_train=True\n",
    "            )     \n",
    "        \n",
    "        train_loss += loss\n",
    "        #print(\"batch\",i,\"-> memory.used\", get_gpu_info()[0]['memory.used'])\n",
    "        \n",
    "    \n",
    "    train_loss = train_loss/len(train)\n",
    "    #print(\"train_end -> memory.used\", get_gpu_info()[0]['memory.used'])\n",
    "    \n",
    "    for i, data in enumerate(valid_dataloader):\n",
    "        batch_X, batch_Y = data\n",
    "        loss = compute_loss(\n",
    "            batch_X, batch_Y, model_n, criterion_n, optimizer_n, is_train=False\n",
    "            )             \n",
    "        valid_loss += loss\n",
    "        #print(\"batch\",i,\"-> memory.used\", get_gpu_info()[0]['memory.used'])\n",
    "    \n",
    "    valid_loss = valid_loss/len(test)\n",
    "        \n",
    "    #print(\"valid_end -> memory.used\", get_gpu_info()[0]['memory.used'])\n",
    "    \n",
    "    print(\"train:\",train_loss, \", valid:\", valid_loss)\n",
    "    log_train_loss.append(train_loss)\n",
    "    log_valid_loss.append(valid_loss)    "
   ]
  },
  {
   "cell_type": "code",
   "execution_count": 71,
   "metadata": {},
   "outputs": [
    {
     "data": {
      "image/png": "[encoded data removed]",
      "text/plain": [
       "<Figure size 432x288 with 1 Axes>"
      ]
     },
     "metadata": {
      "needs_background": "light"
     },
     "output_type": "display_data"
    }
   ],
   "source": [
    "plt.plot(log_train_loss, label=\"train\")\n",
    "plt.plot(log_valid_loss, label=\"test\")\n",
    "plt.legend()\n",
    "plt.savefig('cnn.png')"
   ]
  },
  {
   "cell_type": "code",
   "execution_count": null,
   "metadata": {},
   "outputs": [],
   "source": []
  }
 ],
 "metadata": {
  "kernelspec": {
   "display_name": "Python 3",
   "language": "python",
   "name": "python3"
  },
  "language_info": {
   "codemirror_mode": {
    "name": "ipython",
    "version": 3
   },
   "file_extension": ".py",
   "mimetype": "text/x-python",
   "name": "python",
   "nbconvert_exporter": "python",
   "pygments_lexer": "ipython3",
   "version": "3.7.2"
  }
 },
 "nbformat": 4,
 "nbformat_minor": 2
}
